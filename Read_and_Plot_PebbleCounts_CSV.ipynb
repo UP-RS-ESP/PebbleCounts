{
 "cells": [
  {
   "cell_type": "markdown",
   "id": "059277a2",
   "metadata": {},
   "source": [
    "This notebook is a short tutorial on how to read in a PebbleCounts .csv file. You could always open these in a spreadsheet software like Excel, but why not learn some Python. \n",
    "\n",
    "-Ben Purinton; August 18th, 2021"
   ]
  },
  {
   "cell_type": "code",
   "execution_count": 1,
   "id": "2ba9c01e",
   "metadata": {},
   "outputs": [],
   "source": [
    "import pandas as pd\n",
    "import numpy as np\n",
    "from ast import literal_eval\n",
    "from matplotlib import pyplot as plt"
   ]
  },
  {
   "cell_type": "markdown",
   "id": "eb1d37b0",
   "metadata": {},
   "source": [
    "# The File\n",
    "\n",
    "The .csv files have some different sections for the different data output by PebbleCounts. These sections are:\n",
    "\n",
    "1. **PebbleCounts Parameters**: One row for the image containing the parameters used in the PebbleCounts run which generated the file.\n",
    "\n",
    "\n",
    "2. **Image Details**: One row for the image with the \"perc. not meas.\" (percent not measured) and \"perc. background color\" (percent background color; i.e., areal percentage of sand or smooth compacted surfaces).\n",
    "\n",
    "\n",
    "3. **Pebble Details**: N-rows, where N is the number of pebbles counted, containing the grain-size data.\n",
    "\n",
    "The first two pieces of information can be read in as a Python dictionary, and the last item (grain-size data) we will read in as a Pandas dataframe.\n",
    "\n",
    "Here is what the file looks like when you open it with a spreadsheet software:\n",
    "\n",
    "![](docs/figs/output_csv.png)\n"
   ]
  },
  {
   "cell_type": "markdown",
   "id": "bc1e0a00",
   "metadata": {},
   "source": [
    "# PebbleCounts (k-means manual selection; KMS)"
   ]
  },
  {
   "cell_type": "markdown",
   "id": "7b7cd8ba",
   "metadata": {},
   "source": [
    "First we will open and plot output from the KMS (`PebbleCounts.py`) algorithm."
   ]
  },
  {
   "cell_type": "markdown",
   "id": "6d7464b7",
   "metadata": {},
   "source": [
    "## Select CSV\n",
    "\n",
    "**Note:** If you don't have the file below in the `example_data` folder, then you need to run `PebbleCounts.py` to produce it. Or just follow along with the notebook without it and copy-paste the code you need into your own projects. This file was generated with the following command (and manual clicking):\n",
    "\n",
    "```\n",
    "python PebbleCounts.py -im example_data\\ortho_resolution_1.2mmPerPix.tif -ortho y -maxGS 0.3 \n",
    "```"
   ]
  },
  {
   "cell_type": "code",
   "execution_count": 2,
   "id": "11bcb11c",
   "metadata": {},
   "outputs": [],
   "source": [
    "fn = 'example_data/ortho_resolution_1.2mmPerPix_PebbleCounts_CSV.csv'"
   ]
  },
  {
   "cell_type": "markdown",
   "id": "24f63b94",
   "metadata": {},
   "source": [
    "## Read PebbleCounts Parameters\n",
    "\n",
    "First we'll read the first line with the parameters from the run.\n",
    "\n",
    "**Note:** The `skiprows` and `nrows` parameter are very important and should not be changed. This is standardized across all PebbleCounts .csv outputs!"
   ]
  },
  {
   "cell_type": "code",
   "execution_count": 3,
   "id": "3c561b6d",
   "metadata": {},
   "outputs": [],
   "source": [
    "params = pd.read_csv(fn, skiprows=1, nrows=1).T.to_dict()[0]"
   ]
  },
  {
   "cell_type": "markdown",
   "id": "ad586869",
   "metadata": {},
   "source": [
    "This is now a Python dictionary, which you can read items from"
   ]
  },
  {
   "cell_type": "code",
   "execution_count": 4,
   "id": "dd9e8c05",
   "metadata": {},
   "outputs": [
    {
     "data": {
      "text/plain": [
       "{'otsu_threshold': 50.0,\n",
       " 'maxGS': 0.3,\n",
       " 'cutoff': 20,\n",
       " 'min_sz_factors': '[50, 5, 1]',\n",
       " 'win_sz_factors': '[10, 3, 2]',\n",
       " 'improvement_ths': '[0.01, 0.1, 0.1]',\n",
       " 'coordinate_scales': '[0.5, 0.5, 0.5]',\n",
       " 'overlaps': '[0.5, 0.3, 0.1]',\n",
       " 'first_nl_denoise': 5,\n",
       " 'nl_means_chroma_filts': '[3, 2, 1]',\n",
       " 'bilat_filt_szs': '[9, 5, 3]',\n",
       " 'tophat_th': 90,\n",
       " 'sobel_th': 90,\n",
       " 'canny_sig': 2}"
      ]
     },
     "execution_count": 4,
     "metadata": {},
     "output_type": "execute_result"
    }
   ],
   "source": [
    "params"
   ]
  },
  {
   "cell_type": "code",
   "execution_count": 5,
   "id": "43301257",
   "metadata": {},
   "outputs": [
    {
     "name": "stdout",
     "output_type": "stream",
     "text": [
      "90\n"
     ]
    }
   ],
   "source": [
    "print(params['tophat_th'])"
   ]
  },
  {
   "cell_type": "markdown",
   "id": "22213535",
   "metadata": {},
   "source": [
    "One thing to note: We need the function imported above `literal_eval` to read the list-type items (e.g., `min_sz_factors`) in the above dictionary. When the algorithm saves the data to a .csv file, the list items are converted into strings."
   ]
  },
  {
   "cell_type": "code",
   "execution_count": 6,
   "id": "ade50fa4",
   "metadata": {},
   "outputs": [
    {
     "data": {
      "text/plain": [
       "str"
      ]
     },
     "execution_count": 6,
     "metadata": {},
     "output_type": "execute_result"
    }
   ],
   "source": [
    "type(params['min_sz_factors'])"
   ]
  },
  {
   "cell_type": "code",
   "execution_count": 7,
   "id": "650de1eb",
   "metadata": {},
   "outputs": [
    {
     "name": "stdout",
     "output_type": "stream",
     "text": [
      "[50, 5, 1]\n",
      "<class 'list'>\n"
     ]
    }
   ],
   "source": [
    "print(literal_eval(params['min_sz_factors']))\n",
    "print(type(literal_eval(params['min_sz_factors'])))"
   ]
  },
  {
   "cell_type": "markdown",
   "id": "4b0dd07e",
   "metadata": {},
   "source": [
    "## Read Image Details\n",
    "\n",
    "We can also read in the image details (percent unmeasured and percent background color). \n",
    "\n",
    "**Note:** The `skiprows` and `nrows` parameter are very important and should not be changed. This is standardized across all PebbleCounts .csv outputs!"
   ]
  },
  {
   "cell_type": "code",
   "execution_count": 8,
   "id": "5ed78432",
   "metadata": {},
   "outputs": [],
   "source": [
    "tile_details = pd.read_csv(fn, skiprows=5, nrows=1).T.to_dict()[0]"
   ]
  },
  {
   "cell_type": "code",
   "execution_count": 9,
   "id": "2a4fce95",
   "metadata": {},
   "outputs": [
    {
     "data": {
      "text/plain": [
       "{'perc. not meas.': 80.56790000000001, 'perc. background color': 17.446}"
      ]
     },
     "execution_count": 9,
     "metadata": {},
     "output_type": "execute_result"
    }
   ],
   "source": [
    "tile_details"
   ]
  },
  {
   "cell_type": "markdown",
   "id": "d4aa5a3d",
   "metadata": {},
   "source": [
    "## Read and Plot Pebbles\n",
    "\n",
    "And finally, the main event: grain-size data. Now we will use a pandas dataframe.\n",
    "\n",
    "**Note:** The `skiprows` and `nrows` parameter are very important and should not be changed. This is standardized across all PebbleCounts .csv outputs!"
   ]
  },
  {
   "cell_type": "code",
   "execution_count": 10,
   "id": "6e7473d8",
   "metadata": {},
   "outputs": [],
   "source": [
    "pebbles = pd.read_csv(fn, skiprows=9)"
   ]
  },
  {
   "cell_type": "code",
   "execution_count": 11,
   "id": "a1c25436",
   "metadata": {},
   "outputs": [
    {
     "data": {
      "text/html": [
       "<div>\n",
       "<style scoped>\n",
       "    .dataframe tbody tr th:only-of-type {\n",
       "        vertical-align: middle;\n",
       "    }\n",
       "\n",
       "    .dataframe tbody tr th {\n",
       "        vertical-align: top;\n",
       "    }\n",
       "\n",
       "    .dataframe thead th {\n",
       "        text-align: right;\n",
       "    }\n",
       "</style>\n",
       "<table border=\"1\" class=\"dataframe\">\n",
       "  <thead>\n",
       "    <tr style=\"text-align: right;\">\n",
       "      <th></th>\n",
       "      <th>UTM X (m)</th>\n",
       "      <th>UTM Y (m)</th>\n",
       "      <th>a (px)</th>\n",
       "      <th>b (px)</th>\n",
       "      <th>a (m)</th>\n",
       "      <th>b (m)</th>\n",
       "      <th>area (px)</th>\n",
       "      <th>area (m2)</th>\n",
       "      <th>orientation</th>\n",
       "      <th>ellipse area (px)</th>\n",
       "      <th>perc. diff. area</th>\n",
       "    </tr>\n",
       "  </thead>\n",
       "  <tbody>\n",
       "    <tr>\n",
       "      <th>0</th>\n",
       "      <td>836644.2878</td>\n",
       "      <td>7242472.866</td>\n",
       "      <td>87.024678</td>\n",
       "      <td>55.856531</td>\n",
       "      <td>0.104462</td>\n",
       "      <td>0.067049</td>\n",
       "      <td>3401</td>\n",
       "      <td>0.004900</td>\n",
       "      <td>-2.309977</td>\n",
       "      <td>3807.285687</td>\n",
       "      <td>10.671269</td>\n",
       "    </tr>\n",
       "    <tr>\n",
       "      <th>1</th>\n",
       "      <td>836644.5051</td>\n",
       "      <td>7242472.819</td>\n",
       "      <td>91.028929</td>\n",
       "      <td>55.045931</td>\n",
       "      <td>0.109269</td>\n",
       "      <td>0.066076</td>\n",
       "      <td>3433</td>\n",
       "      <td>0.004947</td>\n",
       "      <td>-2.527877</td>\n",
       "      <td>3924.675289</td>\n",
       "      <td>12.527795</td>\n",
       "    </tr>\n",
       "    <tr>\n",
       "      <th>2</th>\n",
       "      <td>836644.6023</td>\n",
       "      <td>7242472.809</td>\n",
       "      <td>46.619508</td>\n",
       "      <td>38.267768</td>\n",
       "      <td>0.055961</td>\n",
       "      <td>0.045936</td>\n",
       "      <td>1288</td>\n",
       "      <td>0.001856</td>\n",
       "      <td>-0.218997</td>\n",
       "      <td>1397.332929</td>\n",
       "      <td>7.824401</td>\n",
       "    </tr>\n",
       "    <tr>\n",
       "      <th>3</th>\n",
       "      <td>836644.5159</td>\n",
       "      <td>7242472.703</td>\n",
       "      <td>150.841046</td>\n",
       "      <td>69.113499</td>\n",
       "      <td>0.181065</td>\n",
       "      <td>0.082962</td>\n",
       "      <td>7258</td>\n",
       "      <td>0.010458</td>\n",
       "      <td>-2.214070</td>\n",
       "      <td>8165.475866</td>\n",
       "      <td>11.113570</td>\n",
       "    </tr>\n",
       "    <tr>\n",
       "      <th>4</th>\n",
       "      <td>836644.1702</td>\n",
       "      <td>7242472.628</td>\n",
       "      <td>114.262068</td>\n",
       "      <td>108.564897</td>\n",
       "      <td>0.137157</td>\n",
       "      <td>0.130318</td>\n",
       "      <td>8869</td>\n",
       "      <td>0.012779</td>\n",
       "      <td>-3.002590</td>\n",
       "      <td>9716.068830</td>\n",
       "      <td>8.718226</td>\n",
       "    </tr>\n",
       "    <tr>\n",
       "      <th>...</th>\n",
       "      <td>...</td>\n",
       "      <td>...</td>\n",
       "      <td>...</td>\n",
       "      <td>...</td>\n",
       "      <td>...</td>\n",
       "      <td>...</td>\n",
       "      <td>...</td>\n",
       "      <td>...</td>\n",
       "      <td>...</td>\n",
       "      <td>...</td>\n",
       "      <td>...</td>\n",
       "    </tr>\n",
       "    <tr>\n",
       "      <th>64</th>\n",
       "      <td>836644.9420</td>\n",
       "      <td>7242472.026</td>\n",
       "      <td>68.150933</td>\n",
       "      <td>55.956297</td>\n",
       "      <td>0.081806</td>\n",
       "      <td>0.067168</td>\n",
       "      <td>2631</td>\n",
       "      <td>0.003791</td>\n",
       "      <td>-1.690621</td>\n",
       "      <td>2986.894275</td>\n",
       "      <td>11.915195</td>\n",
       "    </tr>\n",
       "    <tr>\n",
       "      <th>65</th>\n",
       "      <td>836645.0608</td>\n",
       "      <td>7242472.013</td>\n",
       "      <td>49.360133</td>\n",
       "      <td>36.526219</td>\n",
       "      <td>0.059251</td>\n",
       "      <td>0.043845</td>\n",
       "      <td>1106</td>\n",
       "      <td>0.001594</td>\n",
       "      <td>-2.726250</td>\n",
       "      <td>1412.147675</td>\n",
       "      <td>21.679579</td>\n",
       "    </tr>\n",
       "    <tr>\n",
       "      <th>66</th>\n",
       "      <td>836644.9168</td>\n",
       "      <td>7242471.961</td>\n",
       "      <td>80.284876</td>\n",
       "      <td>42.840646</td>\n",
       "      <td>0.096372</td>\n",
       "      <td>0.051425</td>\n",
       "      <td>2194</td>\n",
       "      <td>0.003161</td>\n",
       "      <td>-2.755353</td>\n",
       "      <td>2693.945657</td>\n",
       "      <td>18.558120</td>\n",
       "    </tr>\n",
       "    <tr>\n",
       "      <th>67</th>\n",
       "      <td>836645.0932</td>\n",
       "      <td>7242471.847</td>\n",
       "      <td>37.748005</td>\n",
       "      <td>31.099214</td>\n",
       "      <td>0.045312</td>\n",
       "      <td>0.037331</td>\n",
       "      <td>819</td>\n",
       "      <td>0.001180</td>\n",
       "      <td>-2.054698</td>\n",
       "      <td>919.480448</td>\n",
       "      <td>10.927959</td>\n",
       "    </tr>\n",
       "    <tr>\n",
       "      <th>68</th>\n",
       "      <td>836645.2541</td>\n",
       "      <td>7242472.284</td>\n",
       "      <td>34.972655</td>\n",
       "      <td>22.441033</td>\n",
       "      <td>0.041980</td>\n",
       "      <td>0.026938</td>\n",
       "      <td>562</td>\n",
       "      <td>0.000810</td>\n",
       "      <td>-0.949405</td>\n",
       "      <td>614.710368</td>\n",
       "      <td>8.574830</td>\n",
       "    </tr>\n",
       "  </tbody>\n",
       "</table>\n",
       "<p>69 rows × 11 columns</p>\n",
       "</div>"
      ],
      "text/plain": [
       "      UTM X (m)    UTM Y (m)      a (px)      b (px)     a (m)     b (m)  \\\n",
       "0   836644.2878  7242472.866   87.024678   55.856531  0.104462  0.067049   \n",
       "1   836644.5051  7242472.819   91.028929   55.045931  0.109269  0.066076   \n",
       "2   836644.6023  7242472.809   46.619508   38.267768  0.055961  0.045936   \n",
       "3   836644.5159  7242472.703  150.841046   69.113499  0.181065  0.082962   \n",
       "4   836644.1702  7242472.628  114.262068  108.564897  0.137157  0.130318   \n",
       "..          ...          ...         ...         ...       ...       ...   \n",
       "64  836644.9420  7242472.026   68.150933   55.956297  0.081806  0.067168   \n",
       "65  836645.0608  7242472.013   49.360133   36.526219  0.059251  0.043845   \n",
       "66  836644.9168  7242471.961   80.284876   42.840646  0.096372  0.051425   \n",
       "67  836645.0932  7242471.847   37.748005   31.099214  0.045312  0.037331   \n",
       "68  836645.2541  7242472.284   34.972655   22.441033  0.041980  0.026938   \n",
       "\n",
       "    area (px)  area (m2)  orientation  ellipse area (px)  perc. diff. area  \n",
       "0        3401   0.004900    -2.309977        3807.285687         10.671269  \n",
       "1        3433   0.004947    -2.527877        3924.675289         12.527795  \n",
       "2        1288   0.001856    -0.218997        1397.332929          7.824401  \n",
       "3        7258   0.010458    -2.214070        8165.475866         11.113570  \n",
       "4        8869   0.012779    -3.002590        9716.068830          8.718226  \n",
       "..        ...        ...          ...                ...               ...  \n",
       "64       2631   0.003791    -1.690621        2986.894275         11.915195  \n",
       "65       1106   0.001594    -2.726250        1412.147675         21.679579  \n",
       "66       2194   0.003161    -2.755353        2693.945657         18.558120  \n",
       "67        819   0.001180    -2.054698         919.480448         10.927959  \n",
       "68        562   0.000810    -0.949405         614.710368          8.574830  \n",
       "\n",
       "[69 rows x 11 columns]"
      ]
     },
     "execution_count": 11,
     "metadata": {},
     "output_type": "execute_result"
    }
   ],
   "source": [
    "pebbles"
   ]
  },
  {
   "cell_type": "markdown",
   "id": "4d4626b5",
   "metadata": {},
   "source": [
    "We can pull out a column, in this case the b-axes of all pebbles measured."
   ]
  },
  {
   "cell_type": "code",
   "execution_count": 12,
   "id": "794fa8cd",
   "metadata": {},
   "outputs": [],
   "source": [
    "b_axes_KMS = pebbles['b (m)'].to_numpy(copy=True)"
   ]
  },
  {
   "cell_type": "markdown",
   "id": "d6137c67",
   "metadata": {},
   "source": [
    "Let's convert that from meters to $\\psi$ units, where $\\psi=log_2(mm)$"
   ]
  },
  {
   "cell_type": "code",
   "execution_count": 13,
   "id": "60b601ac",
   "metadata": {},
   "outputs": [],
   "source": [
    "b_axes_KMS = np.log2(b_axes_KMS * 1000)"
   ]
  },
  {
   "cell_type": "markdown",
   "id": "5cf7b864",
   "metadata": {},
   "source": [
    "And plot the CDF, or grain-size distribution."
   ]
  },
  {
   "cell_type": "code",
   "execution_count": 14,
   "id": "dcc90e1c",
   "metadata": {},
   "outputs": [
    {
     "data": {
      "text/plain": [
       "Text(0, 0.5, 'CDF')"
      ]
     },
     "execution_count": 14,
     "metadata": {},
     "output_type": "execute_result"
    },
    {
     "data": {
      "image/png": "[encoded data removed]",
      "text/plain": [
       "<Figure size 360x360 with 1 Axes>"
      ]
     },
     "metadata": {
      "needs_background": "light"
     },
     "output_type": "display_data"
    }
   ],
   "source": [
    "plt.figure(figsize=(5,5))\n",
    "plt.plot(sorted(b_axes_KMS), np.linspace(0, 1, len(b_axes_KMS)), color='r')\n",
    "plt.xlabel('b-axis length ($\\psi$)')\n",
    "plt.ylabel('CDF')"
   ]
  },
  {
   "cell_type": "markdown",
   "id": "65c6631c",
   "metadata": {},
   "source": [
    "# PebbleCountsAuto (automatic with image filtering; AIF)\n",
    "\n",
    "Now we will repeat all of that for a `PebbleCountsAuto.py` (AIF algorithm) .csv file."
   ]
  },
  {
   "cell_type": "markdown",
   "id": "eaa154d3",
   "metadata": {},
   "source": [
    "## Select CSV\n",
    "\n",
    "**Note:** If you don't have the file below in the `example_data` folder, then you need to run `PebbleCountsAuto.py` to produce it. Or just follow along with the notebook without it and copy-paste the code you need into your own projects. This file was generated with the following command (assuming you have already clicked and generated the sand mask .tif file in the previous step):\n",
    "\n",
    "```\n",
    "python PebbleCountsAuto.py -im example_data\\ortho_resolution_1.2mmPerPix.tif -ortho y -sand_mask example_data\\ortho_resolution_1.2mmPerPix_PebbleCounts_SandMask_TIFF.tif -otsu_th 50\n",
    "```"
   ]
  },
  {
   "cell_type": "code",
   "execution_count": 15,
   "id": "d6236f36",
   "metadata": {},
   "outputs": [],
   "source": [
    "fn = 'example_data/ortho_resolution_1.2mmPerPix_PebbleCountsAuto_CSV.csv'"
   ]
  },
  {
   "cell_type": "markdown",
   "id": "e32e88ca",
   "metadata": {},
   "source": [
    "## Read PebbleCounts Parameters"
   ]
  },
  {
   "cell_type": "code",
   "execution_count": 16,
   "id": "b95f212f",
   "metadata": {},
   "outputs": [],
   "source": [
    "params = pd.read_csv(fn, skiprows=1, nrows=1).T.to_dict()[0]"
   ]
  },
  {
   "cell_type": "code",
   "execution_count": 17,
   "id": "521f87d8",
   "metadata": {},
   "outputs": [
    {
     "data": {
      "text/plain": [
       "{'otsu_threshold': 45.0,\n",
       " 'cutoff': 20.0,\n",
       " 'percent_overlap': 15.0,\n",
       " 'misfit_threshold': 30.0,\n",
       " 'min_size_threshold': 10.0,\n",
       " 'first_nl_denoise': 5.0,\n",
       " 'tophat_th': 85.0,\n",
       " 'sobel_th': 85.0,\n",
       " 'canny_sig': 2.0}"
      ]
     },
     "execution_count": 17,
     "metadata": {},
     "output_type": "execute_result"
    }
   ],
   "source": [
    "params"
   ]
  },
  {
   "cell_type": "markdown",
   "id": "69c1e900",
   "metadata": {},
   "source": [
    "There are no list-type entries in the case of `PebbleCountsAuto.py` parameters, so we don't need to worry about the `literal_eval` function as we did above."
   ]
  },
  {
   "cell_type": "markdown",
   "id": "d0ff7925",
   "metadata": {},
   "source": [
    "## Read Image Details"
   ]
  },
  {
   "cell_type": "code",
   "execution_count": 18,
   "id": "665fae56",
   "metadata": {},
   "outputs": [],
   "source": [
    "tile_details = pd.read_csv(fn, skiprows=5, nrows=1).T.to_dict()[0]"
   ]
  },
  {
   "cell_type": "code",
   "execution_count": 19,
   "id": "8e361e30",
   "metadata": {},
   "outputs": [
    {
     "data": {
      "text/plain": [
       "{'perc. not meas.': 50.78, 'perc. background color': 22.8574}"
      ]
     },
     "execution_count": 19,
     "metadata": {},
     "output_type": "execute_result"
    }
   ],
   "source": [
    "tile_details"
   ]
  },
  {
   "cell_type": "markdown",
   "id": "d2af1e48",
   "metadata": {},
   "source": [
    "## Read and Plot Pebbles"
   ]
  },
  {
   "cell_type": "code",
   "execution_count": 20,
   "id": "bc94db40",
   "metadata": {},
   "outputs": [],
   "source": [
    "pebbles = pd.read_csv(fn, skiprows=9)"
   ]
  },
  {
   "cell_type": "code",
   "execution_count": 21,
   "id": "3bb3b010",
   "metadata": {},
   "outputs": [
    {
     "data": {
      "text/html": [
       "<div>\n",
       "<style scoped>\n",
       "    .dataframe tbody tr th:only-of-type {\n",
       "        vertical-align: middle;\n",
       "    }\n",
       "\n",
       "    .dataframe tbody tr th {\n",
       "        vertical-align: top;\n",
       "    }\n",
       "\n",
       "    .dataframe thead th {\n",
       "        text-align: right;\n",
       "    }\n",
       "</style>\n",
       "<table border=\"1\" class=\"dataframe\">\n",
       "  <thead>\n",
       "    <tr style=\"text-align: right;\">\n",
       "      <th></th>\n",
       "      <th>UTM X (m)</th>\n",
       "      <th>UTM Y (m)</th>\n",
       "      <th>a (px)</th>\n",
       "      <th>b (px)</th>\n",
       "      <th>a (m)</th>\n",
       "      <th>b (m)</th>\n",
       "      <th>area (px)</th>\n",
       "      <th>area (m2)</th>\n",
       "      <th>orientation</th>\n",
       "      <th>ellipse area (px)</th>\n",
       "      <th>perc. diff. area</th>\n",
       "    </tr>\n",
       "  </thead>\n",
       "  <tbody>\n",
       "    <tr>\n",
       "      <th>0</th>\n",
       "      <td>836644.287800</td>\n",
       "      <td>7.242473e+06</td>\n",
       "      <td>91.099302</td>\n",
       "      <td>56.929474</td>\n",
       "      <td>0.109353</td>\n",
       "      <td>0.068337</td>\n",
       "      <td>3585</td>\n",
       "      <td>0.005166</td>\n",
       "      <td>-2.346842</td>\n",
       "      <td>4062.106433</td>\n",
       "      <td>11.745296</td>\n",
       "    </tr>\n",
       "    <tr>\n",
       "      <th>1</th>\n",
       "      <td>836644.664717</td>\n",
       "      <td>7.242473e+06</td>\n",
       "      <td>87.562741</td>\n",
       "      <td>73.385072</td>\n",
       "      <td>0.105108</td>\n",
       "      <td>0.088089</td>\n",
       "      <td>4281</td>\n",
       "      <td>0.006168</td>\n",
       "      <td>-2.740125</td>\n",
       "      <td>5032.990990</td>\n",
       "      <td>14.941235</td>\n",
       "    </tr>\n",
       "    <tr>\n",
       "      <th>2</th>\n",
       "      <td>836644.431844</td>\n",
       "      <td>7.242473e+06</td>\n",
       "      <td>44.341632</td>\n",
       "      <td>23.999295</td>\n",
       "      <td>0.053226</td>\n",
       "      <td>0.028808</td>\n",
       "      <td>678</td>\n",
       "      <td>0.000977</td>\n",
       "      <td>-1.838869</td>\n",
       "      <td>833.506962</td>\n",
       "      <td>18.656948</td>\n",
       "    </tr>\n",
       "    <tr>\n",
       "      <th>3</th>\n",
       "      <td>836644.506268</td>\n",
       "      <td>7.242473e+06</td>\n",
       "      <td>92.439524</td>\n",
       "      <td>58.495033</td>\n",
       "      <td>0.110962</td>\n",
       "      <td>0.070216</td>\n",
       "      <td>3794</td>\n",
       "      <td>0.005467</td>\n",
       "      <td>-2.370185</td>\n",
       "      <td>4235.218002</td>\n",
       "      <td>10.417835</td>\n",
       "    </tr>\n",
       "    <tr>\n",
       "      <th>4</th>\n",
       "      <td>836644.113746</td>\n",
       "      <td>7.242473e+06</td>\n",
       "      <td>33.943588</td>\n",
       "      <td>24.522035</td>\n",
       "      <td>0.040745</td>\n",
       "      <td>0.029436</td>\n",
       "      <td>505</td>\n",
       "      <td>0.000728</td>\n",
       "      <td>-0.035510</td>\n",
       "      <td>651.948572</td>\n",
       "      <td>22.539902</td>\n",
       "    </tr>\n",
       "    <tr>\n",
       "      <th>...</th>\n",
       "      <td>...</td>\n",
       "      <td>...</td>\n",
       "      <td>...</td>\n",
       "      <td>...</td>\n",
       "      <td>...</td>\n",
       "      <td>...</td>\n",
       "      <td>...</td>\n",
       "      <td>...</td>\n",
       "      <td>...</td>\n",
       "      <td>...</td>\n",
       "      <td>...</td>\n",
       "    </tr>\n",
       "    <tr>\n",
       "      <th>75</th>\n",
       "      <td>836645.099251</td>\n",
       "      <td>7.242472e+06</td>\n",
       "      <td>46.812721</td>\n",
       "      <td>32.803184</td>\n",
       "      <td>0.056193</td>\n",
       "      <td>0.039376</td>\n",
       "      <td>1090</td>\n",
       "      <td>0.001571</td>\n",
       "      <td>-2.607045</td>\n",
       "      <td>1202.759965</td>\n",
       "      <td>9.375101</td>\n",
       "    </tr>\n",
       "    <tr>\n",
       "      <th>76</th>\n",
       "      <td>836645.214487</td>\n",
       "      <td>7.242472e+06</td>\n",
       "      <td>74.834690</td>\n",
       "      <td>36.298176</td>\n",
       "      <td>0.089829</td>\n",
       "      <td>0.043571</td>\n",
       "      <td>1910</td>\n",
       "      <td>0.002752</td>\n",
       "      <td>-0.057553</td>\n",
       "      <td>2127.584663</td>\n",
       "      <td>10.226839</td>\n",
       "    </tr>\n",
       "    <tr>\n",
       "      <th>77</th>\n",
       "      <td>836645.141264</td>\n",
       "      <td>7.242472e+06</td>\n",
       "      <td>64.393964</td>\n",
       "      <td>47.678347</td>\n",
       "      <td>0.077297</td>\n",
       "      <td>0.057232</td>\n",
       "      <td>2070</td>\n",
       "      <td>0.002983</td>\n",
       "      <td>-0.485613</td>\n",
       "      <td>2404.725066</td>\n",
       "      <td>13.919473</td>\n",
       "    </tr>\n",
       "    <tr>\n",
       "      <th>78</th>\n",
       "      <td>836644.123349</td>\n",
       "      <td>7.242472e+06</td>\n",
       "      <td>50.170835</td>\n",
       "      <td>25.534225</td>\n",
       "      <td>0.060224</td>\n",
       "      <td>0.030651</td>\n",
       "      <td>905</td>\n",
       "      <td>0.001304</td>\n",
       "      <td>-2.647203</td>\n",
       "      <td>1003.397672</td>\n",
       "      <td>9.806448</td>\n",
       "    </tr>\n",
       "    <tr>\n",
       "      <th>79</th>\n",
       "      <td>836645.182077</td>\n",
       "      <td>7.242472e+06</td>\n",
       "      <td>26.515197</td>\n",
       "      <td>24.846945</td>\n",
       "      <td>0.031828</td>\n",
       "      <td>0.029826</td>\n",
       "      <td>469</td>\n",
       "      <td>0.000676</td>\n",
       "      <td>-2.068539</td>\n",
       "      <td>516.020479</td>\n",
       "      <td>9.112134</td>\n",
       "    </tr>\n",
       "  </tbody>\n",
       "</table>\n",
       "<p>80 rows × 11 columns</p>\n",
       "</div>"
      ],
      "text/plain": [
       "        UTM X (m)     UTM Y (m)     a (px)     b (px)     a (m)     b (m)  \\\n",
       "0   836644.287800  7.242473e+06  91.099302  56.929474  0.109353  0.068337   \n",
       "1   836644.664717  7.242473e+06  87.562741  73.385072  0.105108  0.088089   \n",
       "2   836644.431844  7.242473e+06  44.341632  23.999295  0.053226  0.028808   \n",
       "3   836644.506268  7.242473e+06  92.439524  58.495033  0.110962  0.070216   \n",
       "4   836644.113746  7.242473e+06  33.943588  24.522035  0.040745  0.029436   \n",
       "..            ...           ...        ...        ...       ...       ...   \n",
       "75  836645.099251  7.242472e+06  46.812721  32.803184  0.056193  0.039376   \n",
       "76  836645.214487  7.242472e+06  74.834690  36.298176  0.089829  0.043571   \n",
       "77  836645.141264  7.242472e+06  64.393964  47.678347  0.077297  0.057232   \n",
       "78  836644.123349  7.242472e+06  50.170835  25.534225  0.060224  0.030651   \n",
       "79  836645.182077  7.242472e+06  26.515197  24.846945  0.031828  0.029826   \n",
       "\n",
       "    area (px)  area (m2)  orientation  ellipse area (px)  perc. diff. area  \n",
       "0        3585   0.005166    -2.346842        4062.106433         11.745296  \n",
       "1        4281   0.006168    -2.740125        5032.990990         14.941235  \n",
       "2         678   0.000977    -1.838869         833.506962         18.656948  \n",
       "3        3794   0.005467    -2.370185        4235.218002         10.417835  \n",
       "4         505   0.000728    -0.035510         651.948572         22.539902  \n",
       "..        ...        ...          ...                ...               ...  \n",
       "75       1090   0.001571    -2.607045        1202.759965          9.375101  \n",
       "76       1910   0.002752    -0.057553        2127.584663         10.226839  \n",
       "77       2070   0.002983    -0.485613        2404.725066         13.919473  \n",
       "78        905   0.001304    -2.647203        1003.397672          9.806448  \n",
       "79        469   0.000676    -2.068539         516.020479          9.112134  \n",
       "\n",
       "[80 rows x 11 columns]"
      ]
     },
     "execution_count": 21,
     "metadata": {},
     "output_type": "execute_result"
    }
   ],
   "source": [
    "pebbles"
   ]
  },
  {
   "cell_type": "code",
   "execution_count": 22,
   "id": "408de681",
   "metadata": {},
   "outputs": [],
   "source": [
    "b_axes_AIF = pebbles['b (m)'].to_numpy(copy=True)"
   ]
  },
  {
   "cell_type": "code",
   "execution_count": 23,
   "id": "e1534b5e",
   "metadata": {},
   "outputs": [],
   "source": [
    "b_axes_AIF = np.log2(b_axes_AIF * 1000)"
   ]
  },
  {
   "cell_type": "code",
   "execution_count": 24,
   "id": "00b2673f",
   "metadata": {},
   "outputs": [
    {
     "data": {
      "text/plain": [
       "<matplotlib.legend.Legend at 0x249301739d0>"
      ]
     },
     "execution_count": 24,
     "metadata": {},
     "output_type": "execute_result"
    },
    {
     "data": {
      "image/png": "[encoded data removed]",
      "text/plain": [
       "<Figure size 360x360 with 1 Axes>"
      ]
     },
     "metadata": {
      "needs_background": "light"
     },
     "output_type": "display_data"
    }
   ],
   "source": [
    "plt.figure(figsize=(5,5))\n",
    "plt.plot(sorted(b_axes_KMS), np.linspace(0, 1, len(b_axes_KMS)), color='r', label='manual KMS (n={})'.format(len(b_axes_KMS)))\n",
    "plt.plot(sorted(b_axes_AIF), np.linspace(0, 1, len(b_axes_AIF)), color='b', label='auto AIF (n={})'.format(len(b_axes_AIF)))\n",
    "plt.xlabel('b-axis length ($\\psi$)')\n",
    "plt.ylabel('CDF')\n",
    "plt.legend()"
   ]
  },
  {
   "cell_type": "markdown",
   "id": "77ed7802",
   "metadata": {},
   "source": [
    "Pretty similar results, looks like we might be able to trust out automatic measurements for this area. Read more on that topic here: https://doi.org/10.1029/2021JF006260."
   ]
  }
 ],
 "metadata": {
  "kernelspec": {
   "display_name": "Python 3 (ipykernel)",
   "language": "python",
   "name": "python3"
  },
  "language_info": {
   "codemirror_mode": {
    "name": "ipython",
    "version": 3
   },
   "file_extension": ".py",
   "mimetype": "text/x-python",
   "name": "python",
   "nbconvert_exporter": "python",
   "pygments_lexer": "ipython3",
   "version": "3.9.6"
  }
 },
 "nbformat": 4,
 "nbformat_minor": 5
}
